{
  "nbformat": 4,
  "nbformat_minor": 0,
  "metadata": {
    "colab": {
      "name": "annotation",
      "provenance": [],
      "collapsed_sections": [],
      "machine_shape": "hm",
      "mount_file_id": "1ZIeiqlAhXmK3GU-Gsy5EfnzfnWL01FDW",
      "authorship_tag": "ABX9TyOMbnUX8dufcHuNEmMCkP+s",
      "include_colab_link": true
    },
    "kernelspec": {
      "name": "python3",
      "display_name": "Python 3"
    },
    "language_info": {
      "name": "python"
    },
    "accelerator": "GPU"
  },
  "cells": [
    {
      "cell_type": "markdown",
      "metadata": {
        "id": "view-in-github",
        "colab_type": "text"
      },
      "source": [
        "<a href=\"https://colab.research.google.com/github/shonyeajin/ballet_pose_superviser/blob/main/annotation.ipynb\" target=\"_parent\"><img src=\"https://colab.research.google.com/assets/colab-badge.svg\" alt=\"Open In Colab\"/></a>"
      ]
    },
    {
      "cell_type": "markdown",
      "source": [
        "input directory읽어서 모든 image 파일을 json으로 변환해서 output directory에 저장함\n",
        "잘 되었는지 확인하기 위해서 이미지 위에 합성해서 보여줌"
      ],
      "metadata": {
        "id": "G6ACDfvx7_MK"
      }
    },
    {
      "cell_type": "code",
      "source": [
        "%cd '/content/drive/MyDrive/Colab Notebooks/vision_project/input'"
      ],
      "metadata": {
        "colab": {
          "base_uri": "https://localhost:8080/"
        },
        "id": "5T2N4sv5GpuV",
        "outputId": "f9ab588e-65d5-4f6c-a50d-c74babf3f44c"
      },
      "execution_count": 9,
      "outputs": [
        {
          "output_type": "stream",
          "name": "stdout",
          "text": [
            "/content/drive/MyDrive/Colab Notebooks/vision_project/input\n"
          ]
        }
      ]
    },
    {
      "cell_type": "code",
      "source": [
        "import numpy as np\n",
        "import cv2\n",
        "import sys\n",
        "import os\n",
        "from matplotlib import pyplot as plt\n",
        "from google.colab.patches import cv2_imshow\n"
      ],
      "metadata": {
        "id": "uPuKSzUeFgTe"
      },
      "execution_count": 23,
      "outputs": []
    },
    {
      "cell_type": "code",
      "source": [
        "protoFile=\"/content/drive/MyDrive/Colab Notebooks/vision_project/model/pose_deploy.prototxt\"\n",
        "weightsFile=\"/content/drive/MyDrive/Colab Notebooks/vision_project/model/pose_iter_584000.caffemodel\"\n",
        "nPoints=25\n",
        "BODY_PARTS_BODY_25 = {0: \"Nose\", 1: \"Neck\", 2: \"RShoulder\", 3: \"RElbow\", 4: \"RWrist\",\n",
        "                      5: \"LShoulder\", 6: \"LElbow\", 7: \"LWrist\", 8: \"MidHip\", 9: \"RHip\",\n",
        "                      10: \"RKnee\", 11: \"RAnkle\", 12: \"LHip\", 13: \"LKnee\", 14: \"LAnkle\",\n",
        "                      15: \"REye\", 16: \"LEye\", 17: \"REar\", 18: \"LEar\", 19: \"LBigToe\",\n",
        "                      20: \"LSmallToe\", 21: \"LHeel\", 22: \"RBigToe\", 23: \"RSmallToe\", 24: \"RHeel\", 25: \"Background\"}\n",
        "\n",
        "POSE_PAIRS_BODY_25 = [[0, 1], [0, 15], [0, 16], [1, 2], [1, 5], [1, 8], [8, 9], [8, 12], [9, 10], [12, 13], [2, 3],\n",
        "                      [3, 4], [5, 6], [6, 7], [10, 11], [13, 14], [15, 17], [16, 18], [14, 21], [19, 21], [20, 21],\n",
        "                      [11, 24], [22, 24], [23, 24]]\n",
        "def proc(img):\n",
        "  global protoFile, weightsFile, nPoints, BODY_PARTS_BODY_25\n",
        "\n",
        "  print(\"./input/\"+img)\n",
        "  frame=cv2.imread(\"/content/drive/MyDrive/Colab Notebooks/vision_project/input/\"+img)\n",
        "  cv2_imshow(frame)\n",
        "  frameCopy=np.copy(frame)\n",
        "\n",
        "  image_height=368\n",
        "  image_width=368\n",
        "\n",
        "  input_blob=cv2.dnn.blobFromImage(frame, 1.0/255, (image_width, image_height), (0,0,0), swapRB=False ,crop=False)\n",
        "  net=cv2.dnn.readNetFromCaffe(protoFile, weightsFile)\n",
        "  net.setInput(input_blob)\n",
        "  out=net.forward()\n",
        "\n",
        "  out_height=out.shape[2]\n",
        "  out_width=out.shape[3]\n",
        "\n",
        "  frame_height, frame_width = frame.shape[:2]\n",
        "\n",
        "  points=[]\n",
        "\n",
        "  for i in range(len(BODY_PARTS_BODY_25)):\n",
        "    prob_map=out[0,i,:,:]\n",
        "    min_val, prob,min_loc, point=cv2.minMaxLoc(prob_map)\n",
        "    x=(frame_width * point[0])/out_width\n",
        "    x=int(x)\n",
        "    y=(frame_height * point[1])/out_height\n",
        "    y=int(y)\n",
        "\n",
        "    if prob> 0.2:\n",
        "      cv2.circle(frameCopy, (x,y),5, (0,255,255), thickness=-1, lineType=cv2.FILLED)\n",
        "      cv2.putText(frameCopy, str(i), (x,y), cv2.FONT_HERSHEY_SIMPLEX, 0.6, (0,0,255), 1, lineType=cv2.LINE_AA)\n",
        "      points.append((x,y))\n",
        "    else:\n",
        "      cv2.circle(frameCopy, (x, y), 5, (0, 255, 255), thickness=-1, lineType=cv2.FILLED)\n",
        "      cv2.putText(frameCopy, str(i), (x, y), cv2.FONT_HERSHEY_SIMPLEX, 0.6, (255, 0, 0), 1, lineType=cv2.LINE_AA)\n",
        "      points.append(None)\n",
        "  cv2_imshow(frameCopy)\n",
        "\n",
        "    "
      ],
      "metadata": {
        "id": "GEguyZTR9Gzp"
      },
      "execution_count": 33,
      "outputs": []
    },
    {
      "cell_type": "code",
      "source": [
        "for i in os.listdir(\"/content/drive/MyDrive/Colab Notebooks/vision_project/input\"):\n",
        "  if i[-3:] in ['jpg', 'png', 'peg']:\n",
        "    proc(i)"
      ],
      "metadata": {
        "id": "dA63qehb-FTE"
      },
      "execution_count": null,
      "outputs": []
    }
  ]
}