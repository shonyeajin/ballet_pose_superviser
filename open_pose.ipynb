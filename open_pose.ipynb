{
  "nbformat": 4,
  "nbformat_minor": 0,
  "metadata": {
    "colab": {
      "name": "open pose",
      "provenance": [],
      "mount_file_id": "1Qrdz8XSQGu3AwGajyn2yvsezOQ5mU2Mv",
      "authorship_tag": "ABX9TyOtOtDBTNmxNyDD4MEeJ0mu",
      "include_colab_link": true
    },
    "kernelspec": {
      "name": "python3",
      "display_name": "Python 3"
    },
    "language_info": {
      "name": "python"
    },
    "accelerator": "GPU"
  },
  "cells": [
    {
      "cell_type": "markdown",
      "metadata": {
        "id": "view-in-github",
        "colab_type": "text"
      },
      "source": [
        "<a href=\"https://colab.research.google.com/github/shonyeajin/ballet_pose_superviser/blob/main/open_pose.ipynb\" target=\"_parent\"><img src=\"https://colab.research.google.com/assets/colab-badge.svg\" alt=\"Open In Colab\"/></a>"
      ]
    },
    {
      "cell_type": "code",
      "source": [
        "from google.colab import drive\n",
        "drive.mount('/content/drive')"
      ],
      "metadata": {
        "colab": {
          "base_uri": "https://localhost:8080/"
        },
        "id": "sgc7uEBV4POE",
        "outputId": "120e8e6f-76e8-43bd-d29a-078eb0870442"
      },
      "execution_count": 3,
      "outputs": [
        {
          "output_type": "stream",
          "name": "stdout",
          "text": [
            "Drive already mounted at /content/drive; to attempt to forcibly remount, call drive.mount(\"/content/drive\", force_remount=True).\n"
          ]
        }
      ]
    },
    {
      "cell_type": "code",
      "source": [
        "! git clone https://github.com/iml1111/opencv_pose_detection"
      ],
      "metadata": {
        "colab": {
          "base_uri": "https://localhost:8080/"
        },
        "id": "iPZtsYNB38Od",
        "outputId": "495a7fab-aa32-4384-e88c-a7a5b7dcbb1b"
      },
      "execution_count": 1,
      "outputs": [
        {
          "output_type": "stream",
          "name": "stdout",
          "text": [
            "Cloning into 'opencv_pose_detection'...\n",
            "remote: Enumerating objects: 30, done.\u001b[K\n",
            "remote: Total 30 (delta 0), reused 0 (delta 0), pack-reused 30\u001b[K\n",
            "Unpacking objects: 100% (30/30), done.\n"
          ]
        }
      ]
    },
    {
      "cell_type": "code",
      "execution_count": 4,
      "metadata": {
        "colab": {
          "base_uri": "https://localhost:8080/"
        },
        "id": "epuHZLcE3sQ4",
        "outputId": "11a291da-1621-4c78-8c32-d41e86b6d2f6"
      },
      "outputs": [
        {
          "output_type": "stream",
          "name": "stdout",
          "text": [
            "--2022-04-01 06:48:42--  http://images.cocodataset.org/zips/train2014.zip\n",
            "Resolving images.cocodataset.org (images.cocodataset.org)... 52.217.140.153\n",
            "Connecting to images.cocodataset.org (images.cocodataset.org)|52.217.140.153|:80... connected.\n",
            "HTTP request sent, awaiting response... 200 OK\n",
            "Length: 13510573713 (13G) [application/zip]\n",
            "Saving to: ‘train2014.zip’\n",
            "\n",
            "train2014.zip       100%[===================>]  12.58G  34.9MB/s    in 6m 11s  \n",
            "\n",
            "2022-04-01 06:54:53 (34.8 MB/s) - ‘train2014.zip’ saved [13510573713/13510573713]\n",
            "\n"
          ]
        }
      ],
      "source": [
        "!wget http://images.cocodataset.org/zips/train2014.zip"
      ]
    },
    {
      "cell_type": "code",
      "source": [
        "!wget http://posefs1.perception.cs.cmu.edu/OpenPose/models/pose/coco/pose_iter_440000.caffemodel"
      ],
      "metadata": {
        "colab": {
          "base_uri": "https://localhost:8080/"
        },
        "id": "i-nsQfQU6CAq",
        "outputId": "b0448630-4999-4bb9-90ea-8b86bc10038d"
      },
      "execution_count": 6,
      "outputs": [
        {
          "output_type": "stream",
          "name": "stdout",
          "text": [
            "--2022-04-01 06:55:21--  http://posefs1.perception.cs.cmu.edu/OpenPose/models/pose/coco/pose_iter_440000.caffemodel\n",
            "Resolving posefs1.perception.cs.cmu.edu (posefs1.perception.cs.cmu.edu)... 128.2.220.57\n",
            "Connecting to posefs1.perception.cs.cmu.edu (posefs1.perception.cs.cmu.edu)|128.2.220.57|:80... connected.\n",
            "HTTP request sent, awaiting response... 200 OK\n",
            "Length: 209274056 (200M) [text/plain]\n",
            "Saving to: ‘pose_iter_440000.caffemodel’\n",
            "\n",
            "pose_iter_440000.ca 100%[===================>] 199.58M  26.5MB/s    in 10s     \n",
            "\n",
            "2022-04-01 06:55:32 (20.1 MB/s) - ‘pose_iter_440000.caffemodel’ saved [209274056/209274056]\n",
            "\n"
          ]
        }
      ]
    },
    {
      "cell_type": "code",
      "source": [
        "!cp '/content/drive/MyDrive/Colab Notebooks/vision_project/coco.prototxt' '/content/opencv_pose_detection/src/model'"
      ],
      "metadata": {
        "id": "6jSizIHS4s0G"
      },
      "execution_count": 5,
      "outputs": []
    },
    {
      "cell_type": "code",
      "source": [
        "!cp '/content/drive/MyDrive/Colab Notebooks/vision_project/6330674010_cb30375041_z.jpg' '/content/opencv_pose_detection/src/input'"
      ],
      "metadata": {
        "id": "CA0sjUAs5KW3"
      },
      "execution_count": 7,
      "outputs": []
    },
    {
      "cell_type": "code",
      "source": [
        "!pip install opencv-python"
      ],
      "metadata": {
        "colab": {
          "base_uri": "https://localhost:8080/"
        },
        "id": "GVpzEQkK6bPR",
        "outputId": "e6daab7e-aef8-4d50-efe0-a1d1a5ff4430"
      },
      "execution_count": 8,
      "outputs": [
        {
          "output_type": "stream",
          "name": "stdout",
          "text": [
            "Requirement already satisfied: opencv-python in /usr/local/lib/python3.7/dist-packages (4.1.2.30)\n",
            "Requirement already satisfied: numpy>=1.14.5 in /usr/local/lib/python3.7/dist-packages (from opencv-python) (1.21.5)\n"
          ]
        }
      ]
    },
    {
      "cell_type": "code",
      "source": [
        "%cd /content/opencv_pose_detection/src"
      ],
      "metadata": {
        "colab": {
          "base_uri": "https://localhost:8080/"
        },
        "id": "NA0Dgmpi6hyk",
        "outputId": "6e379e93-41aa-44d0-d8cf-38d0981b072e"
      },
      "execution_count": 14,
      "outputs": [
        {
          "output_type": "stream",
          "name": "stdout",
          "text": [
            "/content/opencv_pose_detection/src\n"
          ]
        }
      ]
    },
    {
      "cell_type": "code",
      "source": [
        "!cp '/content/drive/MyDrive/Colab Notebooks/vision_project/KakaoTalk_20220401_160443018.jpg' '/content/opencv_pose_detection/src/input'"
      ],
      "metadata": {
        "id": "hsGhkwWx8i_u"
      },
      "execution_count": 18,
      "outputs": []
    },
    {
      "cell_type": "code",
      "source": [
        "!python image.py"
      ],
      "metadata": {
        "colab": {
          "base_uri": "https://localhost:8080/"
        },
        "id": "ZKmPP_nO6mjx",
        "outputId": "4efb4af8-49fe-44a5-b800-01737bb4b6dd"
      },
      "execution_count": 23,
      "outputs": [
        {
          "output_type": "stream",
          "name": "stdout",
          "text": [
            "./input/KakaoTalk_20220401_160443018.jpg\n",
            "완료 : 6.627\n",
            "./input/6330674010_cb30375041_z.jpg\n",
            "완료 : 6.788\n"
          ]
        }
      ]
    }
  ]
}